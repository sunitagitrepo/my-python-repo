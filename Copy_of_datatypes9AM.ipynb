{
  "nbformat": 4,
  "nbformat_minor": 0,
  "metadata": {
    "colab": {
      "provenance": [],
      "include_colab_link": true
    },
    "kernelspec": {
      "name": "python3",
      "display_name": "Python 3"
    },
    "language_info": {
      "name": "python"
    }
  },
  "cells": [
    {
      "cell_type": "markdown",
      "metadata": {
        "id": "view-in-github",
        "colab_type": "text"
      },
      "source": [
        "<a href=\"https://colab.research.google.com/github/sunitagitrepo/my-python-repo/blob/main/Copy_of_datatypes9AM.ipynb\" target=\"_parent\"><img src=\"https://colab.research.google.com/assets/colab-badge.svg\" alt=\"Open In Colab\"/></a>"
      ]
    },
    {
      "cell_type": "markdown",
      "source": [
        "# datatype\n",
        "- it is used to repesent the type of data"
      ],
      "metadata": {
        "id": "Qi9so6_gZrIx"
      }
    },
    {
      "cell_type": "markdown",
      "source": [
        "[data type flow chart](https://images.theengineeringprojects.com/image/webp/2020/06/Datatypes-in-python.jpg.webp?ssl=1\n",
        ")"
      ],
      "metadata": {
        "id": "4ehefU0WZ18D"
      }
    },
    {
      "cell_type": "code",
      "execution_count": null,
      "metadata": {
        "id": "iRhTAi6FZn17"
      },
      "outputs": [],
      "source": [
        "# Numeric data\n",
        "# it is used to represent numerical data"
      ]
    },
    {
      "cell_type": "code",
      "source": [
        "# int => whole number ex=> 0,1,2,-5,10,-10\n",
        "a = 10\n",
        "type(a) # function used to get the data type\n"
      ],
      "metadata": {
        "colab": {
          "base_uri": "https://localhost:8080/"
        },
        "id": "vZT1h6pDaO2l",
        "outputId": "ce71f8ad-7362-4d19-8e98-374cdc5e7075"
      },
      "execution_count": null,
      "outputs": [
        {
          "output_type": "execute_result",
          "data": {
            "text/plain": [
              "int"
            ]
          },
          "metadata": {},
          "execution_count": 3
        }
      ]
    },
    {
      "cell_type": "code",
      "source": [
        "# float => floating point numbers => 2.5, -10.5\n",
        "f = 10.5\n",
        "type(f)"
      ],
      "metadata": {
        "colab": {
          "base_uri": "https://localhost:8080/"
        },
        "id": "S5g7zFMgaXzy",
        "outputId": "683a1523-dac4-4e71-8914-7e1d5c1fc5b5"
      },
      "execution_count": null,
      "outputs": [
        {
          "output_type": "execute_result",
          "data": {
            "text/plain": [
              "float"
            ]
          },
          "metadata": {},
          "execution_count": 6
        }
      ]
    },
    {
      "cell_type": "code",
      "source": [
        "b = 10E5\n",
        "type(b)"
      ],
      "metadata": {
        "colab": {
          "base_uri": "https://localhost:8080/"
        },
        "id": "LIxBWzauanGJ",
        "outputId": "a0f8cc51-82ab-4b1c-b59d-5d7d1b2571a8"
      },
      "execution_count": null,
      "outputs": [
        {
          "output_type": "execute_result",
          "data": {
            "text/plain": [
              "float"
            ]
          },
          "metadata": {},
          "execution_count": 7
        }
      ]
    },
    {
      "cell_type": "code",
      "source": [
        "print(b)"
      ],
      "metadata": {
        "colab": {
          "base_uri": "https://localhost:8080/"
        },
        "id": "Eqjv2Fmia3FA",
        "outputId": "26ceadd6-1608-4b32-80b5-968bcda34366"
      },
      "execution_count": null,
      "outputs": [
        {
          "output_type": "stream",
          "name": "stdout",
          "text": [
            "1000000.0\n"
          ]
        }
      ]
    },
    {
      "cell_type": "code",
      "source": [
        "# complex numbers => It is combination real and imaginary values\n",
        "c = 3+4j\n",
        "type(c)"
      ],
      "metadata": {
        "colab": {
          "base_uri": "https://localhost:8080/"
        },
        "id": "TxOq3yxOa5kN",
        "outputId": "6dcb7566-ec02-491d-c2a4-a406bddccb7e"
      },
      "execution_count": null,
      "outputs": [
        {
          "output_type": "execute_result",
          "data": {
            "text/plain": [
              "complex"
            ]
          },
          "metadata": {},
          "execution_count": 10
        }
      ]
    },
    {
      "cell_type": "code",
      "source": [
        "f"
      ],
      "metadata": {
        "colab": {
          "base_uri": "https://localhost:8080/"
        },
        "id": "5kmX_DDWbPq-",
        "outputId": "9b595fd7-7686-4b7c-ca6c-be0c6598dd4a"
      },
      "execution_count": null,
      "outputs": [
        {
          "output_type": "execute_result",
          "data": {
            "text/plain": [
              "10.5"
            ]
          },
          "metadata": {},
          "execution_count": 11
        }
      ]
    },
    {
      "cell_type": "code",
      "source": [
        "i= int(f)"
      ],
      "metadata": {
        "id": "DRUBILSZbT1o"
      },
      "execution_count": null,
      "outputs": []
    },
    {
      "cell_type": "code",
      "source": [
        "i"
      ],
      "metadata": {
        "colab": {
          "base_uri": "https://localhost:8080/"
        },
        "id": "aGyzj93jbVys",
        "outputId": "be2526b8-9bc8-460f-da82-8af073ea608b"
      },
      "execution_count": null,
      "outputs": [
        {
          "output_type": "execute_result",
          "data": {
            "text/plain": [
              "10"
            ]
          },
          "metadata": {},
          "execution_count": 13
        }
      ]
    },
    {
      "cell_type": "code",
      "source": [
        "f1=float(i)\n",
        "f1\n"
      ],
      "metadata": {
        "colab": {
          "base_uri": "https://localhost:8080/"
        },
        "id": "QeN8713CbXjW",
        "outputId": "e4d70c1b-aba7-47bb-a550-8441f493a713"
      },
      "execution_count": null,
      "outputs": [
        {
          "output_type": "execute_result",
          "data": {
            "text/plain": [
              "10.0"
            ]
          },
          "metadata": {},
          "execution_count": 14
        }
      ]
    },
    {
      "cell_type": "code",
      "source": [
        "com = complex(i)"
      ],
      "metadata": {
        "id": "LuFdtf6pbfuw"
      },
      "execution_count": null,
      "outputs": []
    },
    {
      "cell_type": "code",
      "source": [
        "com"
      ],
      "metadata": {
        "colab": {
          "base_uri": "https://localhost:8080/"
        },
        "id": "NUWge6Mmbjy4",
        "outputId": "64c812e2-eb89-4851-8d4d-bb0d1430e000"
      },
      "execution_count": null,
      "outputs": [
        {
          "output_type": "execute_result",
          "data": {
            "text/plain": [
              "(10+0j)"
            ]
          },
          "metadata": {},
          "execution_count": 16
        }
      ]
    },
    {
      "cell_type": "code",
      "source": [
        "val = int(com)\n",
        "print(val)"
      ],
      "metadata": {
        "colab": {
          "base_uri": "https://localhost:8080/",
          "height": 162
        },
        "id": "e4ytDSGqbke-",
        "outputId": "eafd5c8c-b18f-467a-d181-23ef45f2fd1c"
      },
      "execution_count": null,
      "outputs": [
        {
          "output_type": "error",
          "ename": "TypeError",
          "evalue": "int() argument must be a string, a bytes-like object or a real number, not 'complex'",
          "traceback": [
            "\u001b[0;31m---------------------------------------------------------------------------\u001b[0m",
            "\u001b[0;31mTypeError\u001b[0m                                 Traceback (most recent call last)",
            "\u001b[0;32m<ipython-input-17-3ee149c3e831>\u001b[0m in \u001b[0;36m<cell line: 1>\u001b[0;34m()\u001b[0m\n\u001b[0;32m----> 1\u001b[0;31m \u001b[0mval\u001b[0m \u001b[0;34m=\u001b[0m \u001b[0mint\u001b[0m\u001b[0;34m(\u001b[0m\u001b[0mcom\u001b[0m\u001b[0;34m)\u001b[0m\u001b[0;34m\u001b[0m\u001b[0;34m\u001b[0m\u001b[0m\n\u001b[0m\u001b[1;32m      2\u001b[0m \u001b[0mprint\u001b[0m\u001b[0;34m(\u001b[0m\u001b[0mval\u001b[0m\u001b[0;34m)\u001b[0m\u001b[0;34m\u001b[0m\u001b[0;34m\u001b[0m\u001b[0m\n",
            "\u001b[0;31mTypeError\u001b[0m: int() argument must be a string, a bytes-like object or a real number, not 'complex'"
          ]
        }
      ]
    },
    {
      "cell_type": "code",
      "source": [
        "com.real"
      ],
      "metadata": {
        "colab": {
          "base_uri": "https://localhost:8080/"
        },
        "id": "IxC8qAGIbvlm",
        "outputId": "a2484718-864e-4167-95b9-b2b8833e7c3f"
      },
      "execution_count": null,
      "outputs": [
        {
          "output_type": "execute_result",
          "data": {
            "text/plain": [
              "10.0"
            ]
          },
          "metadata": {},
          "execution_count": 18
        }
      ]
    },
    {
      "cell_type": "code",
      "source": [
        "val = int(com.real)\n",
        "print(val)"
      ],
      "metadata": {
        "colab": {
          "base_uri": "https://localhost:8080/"
        },
        "id": "EZX0lzVmb1u3",
        "outputId": "82e3e55a-12dd-4c80-e7dd-c92feaeba2e4"
      },
      "execution_count": null,
      "outputs": [
        {
          "output_type": "stream",
          "name": "stdout",
          "text": [
            "10\n"
          ]
        }
      ]
    },
    {
      "cell_type": "code",
      "source": [
        "val = int(com.imag)\n",
        "print(val)"
      ],
      "metadata": {
        "colab": {
          "base_uri": "https://localhost:8080/"
        },
        "id": "0_g3VRQTb5VH",
        "outputId": "5433afa2-7494-47cf-a39a-d35bb26ccd7e"
      },
      "execution_count": null,
      "outputs": [
        {
          "output_type": "stream",
          "name": "stdout",
          "text": [
            "0\n"
          ]
        }
      ]
    },
    {
      "cell_type": "markdown",
      "source": [
        "# boolean\n",
        "- True or False"
      ],
      "metadata": {
        "id": "8KhtcEp8cFLR"
      }
    },
    {
      "cell_type": "code",
      "source": [
        "True+0"
      ],
      "metadata": {
        "colab": {
          "base_uri": "https://localhost:8080/"
        },
        "id": "cLetnTFib-9R",
        "outputId": "cda56ad6-0391-4f6f-bcb6-96950c87b38a"
      },
      "execution_count": null,
      "outputs": [
        {
          "output_type": "execute_result",
          "data": {
            "text/plain": [
              "1"
            ]
          },
          "metadata": {},
          "execution_count": 21
        }
      ]
    },
    {
      "cell_type": "code",
      "source": [
        "False+0"
      ],
      "metadata": {
        "colab": {
          "base_uri": "https://localhost:8080/"
        },
        "id": "Ect8VfN2cM3C",
        "outputId": "37e40e80-afdd-4c6a-c725-6af0e6b1b052"
      },
      "execution_count": null,
      "outputs": [
        {
          "output_type": "execute_result",
          "data": {
            "text/plain": [
              "0"
            ]
          },
          "metadata": {},
          "execution_count": 22
        }
      ]
    },
    {
      "cell_type": "code",
      "source": [
        "i = 1"
      ],
      "metadata": {
        "id": "aKfPVBNCcO0a"
      },
      "execution_count": null,
      "outputs": []
    },
    {
      "cell_type": "code",
      "source": [
        "b = bool(i)\n",
        "b"
      ],
      "metadata": {
        "colab": {
          "base_uri": "https://localhost:8080/"
        },
        "id": "3DgZBN3gcSwG",
        "outputId": "66fbc2fc-3c01-449c-81f1-328c2c3e6927"
      },
      "execution_count": null,
      "outputs": [
        {
          "output_type": "execute_result",
          "data": {
            "text/plain": [
              "True"
            ]
          },
          "metadata": {},
          "execution_count": 24
        }
      ]
    },
    {
      "cell_type": "code",
      "source": [
        "i=10\n",
        "b = bool(i)\n",
        "b"
      ],
      "metadata": {
        "colab": {
          "base_uri": "https://localhost:8080/"
        },
        "id": "tmqUISMAcVlG",
        "outputId": "ad9b491b-5cef-4a8b-fff6-5da733471b09"
      },
      "execution_count": null,
      "outputs": [
        {
          "output_type": "execute_result",
          "data": {
            "text/plain": [
              "True"
            ]
          },
          "metadata": {},
          "execution_count": 26
        }
      ]
    },
    {
      "cell_type": "code",
      "source": [
        "b+10"
      ],
      "metadata": {
        "colab": {
          "base_uri": "https://localhost:8080/"
        },
        "id": "KQ7y3U2rcbdb",
        "outputId": "852cdf3d-b95a-4f81-c76e-277488c91105"
      },
      "execution_count": null,
      "outputs": [
        {
          "output_type": "execute_result",
          "data": {
            "text/plain": [
              "11"
            ]
          },
          "metadata": {},
          "execution_count": 27
        }
      ]
    },
    {
      "cell_type": "markdown",
      "source": [
        "# Sequence data type\n",
        "-  a collection\n",
        "\n",
        "- Types\n",
        "  - string\n",
        "  - list\n",
        "  - tuple"
      ],
      "metadata": {
        "id": "FSN2pzxzcosE"
      }
    },
    {
      "cell_type": "markdown",
      "source": [
        "# String\n",
        "- any sequence of characters enclosed within single or double quotes is known as string.\n",
        "\n",
        "    Syntax:\n",
        "\n",
        "        s = \"Mohit\"\n",
        "\n",
        "            or\n",
        "        \n",
        "        s = 'Mohit'"
      ],
      "metadata": {
        "id": "FNFnnjGyc3NF"
      }
    },
    {
      "cell_type": "code",
      "source": [
        "s= \"Mohit Mahi\""
      ],
      "metadata": {
        "id": "tZXHCVXkdBcx"
      },
      "execution_count": null,
      "outputs": []
    },
    {
      "cell_type": "code",
      "source": [
        "type(s)"
      ],
      "metadata": {
        "colab": {
          "base_uri": "https://localhost:8080/"
        },
        "id": "W3-t_KH1ci67",
        "outputId": "e3a942b7-f9f1-4c4f-abd9-f55b93b437a7"
      },
      "execution_count": null,
      "outputs": [
        {
          "output_type": "execute_result",
          "data": {
            "text/plain": [
              "str"
            ]
          },
          "metadata": {},
          "execution_count": 29
        }
      ]
    },
    {
      "cell_type": "code",
      "source": [
        "s= 'Mohit Mahi'\n",
        "type(s)"
      ],
      "metadata": {
        "colab": {
          "base_uri": "https://localhost:8080/"
        },
        "id": "uYuqBvsFdTBT",
        "outputId": "9a34db30-b099-4073-cee0-6433ef39bbba"
      },
      "execution_count": null,
      "outputs": [
        {
          "output_type": "execute_result",
          "data": {
            "text/plain": [
              "str"
            ]
          },
          "metadata": {},
          "execution_count": 30
        }
      ]
    },
    {
      "cell_type": "code",
      "source": [
        "len(s) # length of string"
      ],
      "metadata": {
        "colab": {
          "base_uri": "https://localhost:8080/"
        },
        "id": "UnAlrZu0dW43",
        "outputId": "4e358509-2347-483c-9df6-f60ef2280875"
      },
      "execution_count": null,
      "outputs": [
        {
          "output_type": "execute_result",
          "data": {
            "text/plain": [
              "10"
            ]
          },
          "metadata": {},
          "execution_count": 32
        }
      ]
    },
    {
      "cell_type": "code",
      "source": [
        "s = 'This Laptop belong\\'s to Mohit Sir'"
      ],
      "metadata": {
        "id": "91Yie9G6dfLN"
      },
      "execution_count": null,
      "outputs": []
    },
    {
      "cell_type": "code",
      "source": [
        "s"
      ],
      "metadata": {
        "colab": {
          "base_uri": "https://localhost:8080/",
          "height": 36
        },
        "id": "4uy1iwq1dyNA",
        "outputId": "d210861d-bd86-4815-9e8e-7ff9f713b8e0"
      },
      "execution_count": null,
      "outputs": [
        {
          "output_type": "execute_result",
          "data": {
            "text/plain": [
              "\"This Laptop belong's to Mohit Sir\""
            ],
            "application/vnd.google.colaboratory.intrinsic+json": {
              "type": "string"
            }
          },
          "metadata": {},
          "execution_count": 35
        }
      ]
    },
    {
      "cell_type": "code",
      "source": [
        "s = 'This Laptop belong\"s to Mohit Sir'"
      ],
      "metadata": {
        "id": "zqvA9DNKeEAA"
      },
      "execution_count": null,
      "outputs": []
    },
    {
      "cell_type": "code",
      "source": [
        "s"
      ],
      "metadata": {
        "colab": {
          "base_uri": "https://localhost:8080/",
          "height": 36
        },
        "id": "zjxXOy1GeRzE",
        "outputId": "9bc4af71-4278-40cb-8bc5-b10e784bb2ec"
      },
      "execution_count": null,
      "outputs": [
        {
          "output_type": "execute_result",
          "data": {
            "text/plain": [
              "'This Laptop belong\"s to Mohit Sir'"
            ],
            "application/vnd.google.colaboratory.intrinsic+json": {
              "type": "string"
            }
          },
          "metadata": {},
          "execution_count": 37
        }
      ]
    },
    {
      "cell_type": "code",
      "source": [
        "s = \"This Laptop belong's to Mohit Sir\""
      ],
      "metadata": {
        "id": "zIh0p1ZeeSR2"
      },
      "execution_count": null,
      "outputs": []
    },
    {
      "cell_type": "code",
      "source": [
        "s"
      ],
      "metadata": {
        "colab": {
          "base_uri": "https://localhost:8080/",
          "height": 36
        },
        "id": "hpaFR1gAeaJT",
        "outputId": "5ec9f19e-c521-445b-d1de-f2b354341a1a"
      },
      "execution_count": null,
      "outputs": [
        {
          "output_type": "execute_result",
          "data": {
            "text/plain": [
              "\"This Laptop belong's to Mohit Sir\""
            ],
            "application/vnd.google.colaboratory.intrinsic+json": {
              "type": "string"
            }
          },
          "metadata": {},
          "execution_count": 39
        }
      ]
    },
    {
      "cell_type": "code",
      "source": [
        "s = \"This Laptop belong\\\"s to Mohit Sir\""
      ],
      "metadata": {
        "id": "AFL-vVKCeafF"
      },
      "execution_count": null,
      "outputs": []
    },
    {
      "cell_type": "code",
      "source": [
        "s"
      ],
      "metadata": {
        "colab": {
          "base_uri": "https://localhost:8080/",
          "height": 36
        },
        "id": "jbgG7-K6edXe",
        "outputId": "4cc133e0-c0c1-4a2f-f244-3f5aebd16f4b"
      },
      "execution_count": null,
      "outputs": [
        {
          "output_type": "execute_result",
          "data": {
            "text/plain": [
              "'This Laptop belong\"s to Mohit Sir'"
            ],
            "application/vnd.google.colaboratory.intrinsic+json": {
              "type": "string"
            }
          },
          "metadata": {},
          "execution_count": 42
        }
      ]
    },
    {
      "cell_type": "code",
      "source": [
        "s= \"This Laptop belong's to \"Mohit Sir\"\""
      ],
      "metadata": {
        "colab": {
          "base_uri": "https://localhost:8080/",
          "height": 109
        },
        "id": "SLE4zFuwefK4",
        "outputId": "65c0145e-4d77-4b55-bf30-79be35dc430e"
      },
      "execution_count": null,
      "outputs": [
        {
          "output_type": "error",
          "ename": "SyntaxError",
          "evalue": "invalid syntax (<ipython-input-44-60ad82d3e765>, line 1)",
          "traceback": [
            "\u001b[0;36m  File \u001b[0;32m\"<ipython-input-44-60ad82d3e765>\"\u001b[0;36m, line \u001b[0;32m1\u001b[0m\n\u001b[0;31m    s= \"This Laptop belong's to \"Mohit Sir\"\"\u001b[0m\n\u001b[0m                                 ^\u001b[0m\n\u001b[0;31mSyntaxError\u001b[0m\u001b[0;31m:\u001b[0m invalid syntax\n"
          ]
        }
      ]
    },
    {
      "cell_type": "code",
      "source": [
        "s= \"This Laptop belong's to \\\"Mohit Sir\\\"\""
      ],
      "metadata": {
        "id": "MbBzhgD6ehoA"
      },
      "execution_count": null,
      "outputs": []
    },
    {
      "cell_type": "code",
      "source": [
        "print(s)"
      ],
      "metadata": {
        "colab": {
          "base_uri": "https://localhost:8080/"
        },
        "id": "FM5lxJEofJRA",
        "outputId": "fdd82149-849d-4d45-8f32-25d1b6f603fa"
      },
      "execution_count": null,
      "outputs": [
        {
          "output_type": "stream",
          "name": "stdout",
          "text": [
            "This Laptop belong's to \"Mohit Sir\"\n"
          ]
        }
      ]
    },
    {
      "cell_type": "code",
      "source": [
        "s= \"\"\"\"This Laptop belong's to \"Mohit Sir\" \"\"\""
      ],
      "metadata": {
        "id": "_i9gkZ56fQZH"
      },
      "execution_count": null,
      "outputs": []
    },
    {
      "cell_type": "code",
      "source": [
        "print(s)"
      ],
      "metadata": {
        "colab": {
          "base_uri": "https://localhost:8080/"
        },
        "id": "B5fwPmnjfv67",
        "outputId": "34fb358e-4150-4af8-dc2a-275cf33465ed"
      },
      "execution_count": null,
      "outputs": [
        {
          "output_type": "stream",
          "name": "stdout",
          "text": [
            "\"This Laptop belong's to \"Mohit Sir\" \n"
          ]
        }
      ]
    },
    {
      "cell_type": "code",
      "source": [
        "# multi line string\n",
        "s =\"Ranvijay \\\"Vijay\\\" Singh is the son of Balbir Singh, a powerful Delhi-based industrialist. Vijay is also an aggressive person. Despite Balbir being a strict father, Vijay's love for his father is deep. Balbir doesn't know about his son's devotion to him due to his busy schedule, which also keeps him from spending time with his family. \\\n",
        "\n",
        "One day, Balbir expels Vijay to a boarding school in the US when Vijay threatens the bullies of his elder sister Reet with an AK-47. Vijay finishes his education and returns home after several years. During Balbir's birthday party, Vijay gets into an argument with his brother-in-law, Varun, prompting Balbir to expel him from the house again. Vijay marries his childhood girlfriend, Geetanjali, and the couple cuts ties with their families and moves to the USA, where they have two children.\""
      ],
      "metadata": {
        "colab": {
          "base_uri": "https://localhost:8080/",
          "height": 162
        },
        "id": "y5Eoa77afxzX",
        "outputId": "de1765a2-fbb8-4c44-ebc6-d62f5be986ec"
      },
      "execution_count": null,
      "outputs": [
        {
          "output_type": "error",
          "ename": "SyntaxError",
          "evalue": "unterminated string literal (detected at line 3) (<ipython-input-53-56c969692009>, line 2)",
          "traceback": [
            "\u001b[0;36m  File \u001b[0;32m\"<ipython-input-53-56c969692009>\"\u001b[0;36m, line \u001b[0;32m2\u001b[0m\n\u001b[0;31m    s =\"Ranvijay \\\"Vijay\\\" Singh is the son of Balbir Singh, a powerful Delhi-based industrialist. Vijay is also an aggressive person. Despite Balbir being a strict father, Vijay's love for his father is deep. Balbir doesn't know about his son's devotion to him due to his busy schedule, which also keeps him from spending time with his family. \\\u001b[0m\n\u001b[0m       ^\u001b[0m\n\u001b[0;31mSyntaxError\u001b[0m\u001b[0;31m:\u001b[0m unterminated string literal (detected at line 3)\n"
          ]
        }
      ]
    },
    {
      "cell_type": "code",
      "source": [
        "s = \"\"\"\n",
        "Ranvijay \"Vijay\" Singh is the son of Balbir Singh, a powerful Delhi-based industrialist. Vijay is also an aggressive person. Despite Balbir being a strict father, Vijay's love for his father is deep. Balbir doesn't know about his son's devotion to him due to his busy schedule, which also keeps him from spending time with his family.\n",
        "\n",
        "One day, Balbir expels Vijay to a boarding school in the US when Vijay threatens the bullies of his elder sister Reet with an AK-47. Vijay finishes his education and returns home after several years. During Balbir's birthday party, Vijay gets into an argument with his brother-in-law, Varun, prompting Balbir to expel him from the house again. Vijay marries his childhood girlfriend, Geetanjali, and the couple cuts ties with their families and moves to the USA, where they have two children.\n",
        "\n",
        "\n",
        "\"\"\""
      ],
      "metadata": {
        "id": "eeQrXrpegQOP"
      },
      "execution_count": null,
      "outputs": []
    },
    {
      "cell_type": "code",
      "source": [
        "print(s)"
      ],
      "metadata": {
        "colab": {
          "base_uri": "https://localhost:8080/"
        },
        "id": "yfbK0u67gaE6",
        "outputId": "fc0e9241-1779-49df-aa09-e900f4948649"
      },
      "execution_count": null,
      "outputs": [
        {
          "output_type": "stream",
          "name": "stdout",
          "text": [
            "\n",
            "Ranvijay \"Vijay\" Singh is the son of Balbir Singh, a powerful Delhi-based industrialist. Vijay is also an aggressive person. Despite Balbir being a strict father, Vijay's love for his father is deep. Balbir doesn't know about his son's devotion to him due to his busy schedule, which also keeps him from spending time with his family.\n",
            "\n",
            "One day, Balbir expels Vijay to a boarding school in the US when Vijay threatens the bullies of his elder sister Reet with an AK-47. Vijay finishes his education and returns home after several years. During Balbir's birthday party, Vijay gets into an argument with his brother-in-law, Varun, prompting Balbir to expel him from the house again. Vijay marries his childhood girlfriend, Geetanjali, and the couple cuts ties with their families and moves to the USA, where they have two children.\n",
            "\n",
            "\n",
            "\n"
          ]
        }
      ]
    },
    {
      "cell_type": "code",
      "source": [
        "# Mathematical Operations\n",
        "# +,-,*,/\n",
        "\n",
        "s1 = \"Mohit\"\n",
        "s2 = \"Mahi\""
      ],
      "metadata": {
        "id": "ap7RH5HLgaYi"
      },
      "execution_count": null,
      "outputs": []
    },
    {
      "cell_type": "code",
      "source": [
        "# add => concatenation => join of 2 string together\n",
        "s1+\" \"+s2"
      ],
      "metadata": {
        "colab": {
          "base_uri": "https://localhost:8080/",
          "height": 36
        },
        "id": "hlzvpNAQgxQ5",
        "outputId": "aa02493a-5a03-474c-e3f1-87e77a9687b9"
      },
      "execution_count": null,
      "outputs": [
        {
          "output_type": "execute_result",
          "data": {
            "text/plain": [
              "'Mohit Mahi'"
            ],
            "application/vnd.google.colaboratory.intrinsic+json": {
              "type": "string"
            }
          },
          "metadata": {},
          "execution_count": 59
        }
      ]
    },
    {
      "cell_type": "code",
      "source": [
        "# sub => it is not supported by python\n",
        "s1-s2"
      ],
      "metadata": {
        "colab": {
          "base_uri": "https://localhost:8080/",
          "height": 162
        },
        "id": "lyWSDK5xgz4m",
        "outputId": "ff10ef07-c1ee-46aa-c055-eac7d3fc8de6"
      },
      "execution_count": null,
      "outputs": [
        {
          "output_type": "error",
          "ename": "TypeError",
          "evalue": "unsupported operand type(s) for -: 'str' and 'str'",
          "traceback": [
            "\u001b[0;31m---------------------------------------------------------------------------\u001b[0m",
            "\u001b[0;31mTypeError\u001b[0m                                 Traceback (most recent call last)",
            "\u001b[0;32m<ipython-input-61-b4e5e7b473c4>\u001b[0m in \u001b[0;36m<cell line: 2>\u001b[0;34m()\u001b[0m\n\u001b[1;32m      1\u001b[0m \u001b[0;31m# sub => it is not supported by python\u001b[0m\u001b[0;34m\u001b[0m\u001b[0;34m\u001b[0m\u001b[0m\n\u001b[0;32m----> 2\u001b[0;31m \u001b[0ms1\u001b[0m\u001b[0;34m-\u001b[0m\u001b[0ms2\u001b[0m\u001b[0;34m\u001b[0m\u001b[0;34m\u001b[0m\u001b[0m\n\u001b[0m",
            "\u001b[0;31mTypeError\u001b[0m: unsupported operand type(s) for -: 'str' and 'str'"
          ]
        }
      ]
    },
    {
      "cell_type": "code",
      "source": [
        "#mult  => repeatation => str, int => string will printing n number of times where n is int\n",
        "s1*3"
      ],
      "metadata": {
        "colab": {
          "base_uri": "https://localhost:8080/",
          "height": 36
        },
        "id": "_qvF7ZLig968",
        "outputId": "0256f6e6-43ee-49f2-f7dc-0ee90bf9b699"
      },
      "execution_count": null,
      "outputs": [
        {
          "output_type": "execute_result",
          "data": {
            "text/plain": [
              "'MohitMohitMohit'"
            ],
            "application/vnd.google.colaboratory.intrinsic+json": {
              "type": "string"
            }
          },
          "metadata": {},
          "execution_count": 64
        }
      ]
    },
    {
      "cell_type": "code",
      "source": [
        "# div => it is not supported by python\n",
        "s1/s2"
      ],
      "metadata": {
        "colab": {
          "base_uri": "https://localhost:8080/",
          "height": 162
        },
        "id": "RM2uBrv9hGAa",
        "outputId": "0f97ac8f-9eaa-4be6-a742-5083430d8efd"
      },
      "execution_count": null,
      "outputs": [
        {
          "output_type": "error",
          "ename": "TypeError",
          "evalue": "unsupported operand type(s) for /: 'str' and 'str'",
          "traceback": [
            "\u001b[0;31m---------------------------------------------------------------------------\u001b[0m",
            "\u001b[0;31mTypeError\u001b[0m                                 Traceback (most recent call last)",
            "\u001b[0;32m<ipython-input-66-d3f5554c7f7f>\u001b[0m in \u001b[0;36m<cell line: 2>\u001b[0;34m()\u001b[0m\n\u001b[1;32m      1\u001b[0m \u001b[0;31m# div => it is not supported by python\u001b[0m\u001b[0;34m\u001b[0m\u001b[0;34m\u001b[0m\u001b[0m\n\u001b[0;32m----> 2\u001b[0;31m \u001b[0ms1\u001b[0m\u001b[0;34m/\u001b[0m\u001b[0ms2\u001b[0m\u001b[0;34m\u001b[0m\u001b[0;34m\u001b[0m\u001b[0m\n\u001b[0m",
            "\u001b[0;31mTypeError\u001b[0m: unsupported operand type(s) for /: 'str' and 'str'"
          ]
        }
      ]
    },
    {
      "cell_type": "markdown",
      "source": [
        "# comparison operator\n",
        "- it is used to compare 2 strings"
      ],
      "metadata": {
        "id": "fyzt-UnzisNU"
      }
    },
    {
      "cell_type": "code",
      "source": [
        "s1=\"mohit\"\n",
        "s2=\"mahi\"\n",
        "s1>s2"
      ],
      "metadata": {
        "id": "J8sZk5uZhdiO",
        "colab": {
          "base_uri": "https://localhost:8080/"
        },
        "outputId": "c34983fd-abd3-476d-80a3-8ed6e4568427"
      },
      "execution_count": null,
      "outputs": [
        {
          "output_type": "execute_result",
          "data": {
            "text/plain": [
              "True"
            ]
          },
          "metadata": {},
          "execution_count": 1
        }
      ]
    },
    {
      "cell_type": "code",
      "source": [
        "s1=\"mohit\"\n",
        "s2=\"mahigmail.com\""
      ],
      "metadata": {
        "id": "ijc428iki_kF"
      },
      "execution_count": null,
      "outputs": []
    },
    {
      "cell_type": "code",
      "source": [
        "s1>s2"
      ],
      "metadata": {
        "colab": {
          "base_uri": "https://localhost:8080/"
        },
        "id": "TzFVpSSajL8u",
        "outputId": "95e12359-1025-4204-ae9f-bb68f03c1d9b"
      },
      "execution_count": null,
      "outputs": [
        {
          "output_type": "execute_result",
          "data": {
            "text/plain": [
              "True"
            ]
          },
          "metadata": {},
          "execution_count": 6
        }
      ]
    },
    {
      "cell_type": "code",
      "source": [
        "s1=\"mohit\"\n",
        "s2='n'\n",
        "s1>s2"
      ],
      "metadata": {
        "colab": {
          "base_uri": "https://localhost:8080/"
        },
        "id": "s0s0Ef91jU7E",
        "outputId": "33f16aa5-df34-4419-8d2e-2961e5feaa55"
      },
      "execution_count": null,
      "outputs": [
        {
          "output_type": "execute_result",
          "data": {
            "text/plain": [
              "False"
            ]
          },
          "metadata": {},
          "execution_count": 7
        }
      ]
    },
    {
      "cell_type": "code",
      "source": [
        "s1==s2"
      ],
      "metadata": {
        "colab": {
          "base_uri": "https://localhost:8080/"
        },
        "id": "PGVJoXrZkFKM",
        "outputId": "1ecb203b-0d96-4578-833a-ad381a6e503e"
      },
      "execution_count": null,
      "outputs": [
        {
          "output_type": "execute_result",
          "data": {
            "text/plain": [
              "False"
            ]
          },
          "metadata": {},
          "execution_count": 8
        }
      ]
    },
    {
      "cell_type": "code",
      "source": [
        "# string operations"
      ],
      "metadata": {
        "id": "CwozS0ThkUBw"
      },
      "execution_count": null,
      "outputs": []
    },
    {
      "cell_type": "code",
      "source": [
        "s = \"mohit mahi\""
      ],
      "metadata": {
        "id": "cC6jO-TEkZof"
      },
      "execution_count": null,
      "outputs": []
    },
    {
      "cell_type": "code",
      "source": [
        "s.upper()"
      ],
      "metadata": {
        "colab": {
          "base_uri": "https://localhost:8080/",
          "height": 36
        },
        "id": "LwiIB8LUkgyl",
        "outputId": "97e91f82-12d6-4c91-ba3e-39fc54afd577"
      },
      "execution_count": null,
      "outputs": [
        {
          "output_type": "execute_result",
          "data": {
            "text/plain": [
              "'MOHIT MAHI'"
            ],
            "application/vnd.google.colaboratory.intrinsic+json": {
              "type": "string"
            }
          },
          "metadata": {},
          "execution_count": 11
        }
      ]
    },
    {
      "cell_type": "code",
      "source": [
        "s = \"mohit Mahi\""
      ],
      "metadata": {
        "id": "6cc8uS3OklX1"
      },
      "execution_count": null,
      "outputs": []
    },
    {
      "cell_type": "code",
      "source": [
        "s.lower()"
      ],
      "metadata": {
        "colab": {
          "base_uri": "https://localhost:8080/",
          "height": 36
        },
        "id": "5ROiaWK5kqbD",
        "outputId": "11b0dc62-60c3-4f73-b707-1902a7574a3a"
      },
      "execution_count": null,
      "outputs": [
        {
          "output_type": "execute_result",
          "data": {
            "text/plain": [
              "'mohit mahi'"
            ],
            "application/vnd.google.colaboratory.intrinsic+json": {
              "type": "string"
            }
          },
          "metadata": {},
          "execution_count": 13
        }
      ]
    },
    {
      "cell_type": "code",
      "source": [
        "s.casefold()"
      ],
      "metadata": {
        "colab": {
          "base_uri": "https://localhost:8080/",
          "height": 36
        },
        "id": "u5MYYr37kroq",
        "outputId": "d8e6bffe-1b94-48b1-f403-cbc69ad27937"
      },
      "execution_count": null,
      "outputs": [
        {
          "output_type": "execute_result",
          "data": {
            "text/plain": [
              "'mohit mahi'"
            ],
            "application/vnd.google.colaboratory.intrinsic+json": {
              "type": "string"
            }
          },
          "metadata": {},
          "execution_count": 14
        }
      ]
    },
    {
      "cell_type": "code",
      "source": [
        "s = \"mohit mahi\"\n",
        "s.capitalize()"
      ],
      "metadata": {
        "colab": {
          "base_uri": "https://localhost:8080/",
          "height": 36
        },
        "id": "yAVHZq-Rkum5",
        "outputId": "d968089f-3965-4acf-f389-6ee0ee6b8e90"
      },
      "execution_count": null,
      "outputs": [
        {
          "output_type": "execute_result",
          "data": {
            "text/plain": [
              "'Mohit mahi'"
            ],
            "application/vnd.google.colaboratory.intrinsic+json": {
              "type": "string"
            }
          },
          "metadata": {},
          "execution_count": 15
        }
      ]
    },
    {
      "cell_type": "code",
      "source": [
        "s.title()"
      ],
      "metadata": {
        "colab": {
          "base_uri": "https://localhost:8080/",
          "height": 36
        },
        "id": "2_AKqaczk47P",
        "outputId": "e797b780-1762-4f29-a648-4d6d2ed7cf29"
      },
      "execution_count": null,
      "outputs": [
        {
          "output_type": "execute_result",
          "data": {
            "text/plain": [
              "'Mohit Mahi'"
            ],
            "application/vnd.google.colaboratory.intrinsic+json": {
              "type": "string"
            }
          },
          "metadata": {},
          "execution_count": 16
        }
      ]
    },
    {
      "cell_type": "code",
      "source": [
        "s = \"Mohit Mahi\""
      ],
      "metadata": {
        "id": "6P35aRNtk-CX"
      },
      "execution_count": null,
      "outputs": []
    },
    {
      "cell_type": "code",
      "source": [
        "s.swapcase()"
      ],
      "metadata": {
        "colab": {
          "base_uri": "https://localhost:8080/",
          "height": 36
        },
        "id": "Cf9f6LLqlHeP",
        "outputId": "900bcfcd-009e-498d-b9ef-add8c55796a3"
      },
      "execution_count": null,
      "outputs": [
        {
          "output_type": "execute_result",
          "data": {
            "text/plain": [
              "'mOHIT mAHI'"
            ],
            "application/vnd.google.colaboratory.intrinsic+json": {
              "type": "string"
            }
          },
          "metadata": {},
          "execution_count": 18
        }
      ]
    },
    {
      "cell_type": "code",
      "source": [
        "s.center(20,\" \")"
      ],
      "metadata": {
        "colab": {
          "base_uri": "https://localhost:8080/",
          "height": 141
        },
        "id": "UUvNuzeSlMgc",
        "outputId": "ed52179b-98e1-49b1-be70-b5e020f2f7c4"
      },
      "execution_count": null,
      "outputs": [
        {
          "output_type": "error",
          "ename": "NameError",
          "evalue": "name 's' is not defined",
          "traceback": [
            "\u001b[0;31m---------------------------------------------------------------------------\u001b[0m",
            "\u001b[0;31mNameError\u001b[0m                                 Traceback (most recent call last)",
            "\u001b[0;32m<ipython-input-1-2eafb6e7f1c5>\u001b[0m in \u001b[0;36m<cell line: 1>\u001b[0;34m()\u001b[0m\n\u001b[0;32m----> 1\u001b[0;31m \u001b[0ms\u001b[0m\u001b[0;34m.\u001b[0m\u001b[0mcenter\u001b[0m\u001b[0;34m(\u001b[0m\u001b[0;36m20\u001b[0m\u001b[0;34m,\u001b[0m\u001b[0;34m\" \"\u001b[0m\u001b[0;34m)\u001b[0m\u001b[0;34m\u001b[0m\u001b[0;34m\u001b[0m\u001b[0m\n\u001b[0m",
            "\u001b[0;31mNameError\u001b[0m: name 's' is not defined"
          ]
        }
      ]
    },
    {
      "cell_type": "code",
      "source": [
        "s.count('h')"
      ],
      "metadata": {
        "colab": {
          "base_uri": "https://localhost:8080/"
        },
        "id": "q5VbNpCtlZEQ",
        "outputId": "e3d2c36d-0ab5-4513-b189-d8e6411c06b4"
      },
      "execution_count": null,
      "outputs": [
        {
          "output_type": "execute_result",
          "data": {
            "text/plain": [
              "2"
            ]
          },
          "metadata": {},
          "execution_count": 20
        }
      ]
    },
    {
      "cell_type": "code",
      "source": [
        "s.count('hi')"
      ],
      "metadata": {
        "colab": {
          "base_uri": "https://localhost:8080/"
        },
        "id": "jffVYSVHlkJ3",
        "outputId": "86be8742-9e81-4ff3-9520-8c31deeba74e"
      },
      "execution_count": null,
      "outputs": [
        {
          "output_type": "execute_result",
          "data": {
            "text/plain": [
              "2"
            ]
          },
          "metadata": {},
          "execution_count": 21
        }
      ]
    },
    {
      "cell_type": "code",
      "source": [
        "s=\"mohit\\tmahi\"\n",
        "s.expandtabs()"
      ],
      "metadata": {
        "colab": {
          "base_uri": "https://localhost:8080/",
          "height": 36
        },
        "id": "TVcrcyB1lnBJ",
        "outputId": "cb260d0d-4a8e-40e3-993b-4f5522ab7d61"
      },
      "execution_count": null,
      "outputs": [
        {
          "output_type": "execute_result",
          "data": {
            "text/plain": [
              "'mohit   mahi'"
            ],
            "application/vnd.google.colaboratory.intrinsic+json": {
              "type": "string"
            }
          },
          "metadata": {},
          "execution_count": 4
        }
      ]
    },
    {
      "cell_type": "code",
      "source": [
        "s = \"hello world\""
      ],
      "metadata": {
        "id": "RrxBvesJmE66"
      },
      "execution_count": null,
      "outputs": []
    },
    {
      "cell_type": "code",
      "source": [
        "s.find('l')"
      ],
      "metadata": {
        "colab": {
          "base_uri": "https://localhost:8080/"
        },
        "id": "As1A25eZl0xI",
        "outputId": "ee0f2710-0468-4b8f-aad6-be04d67a78b9"
      },
      "execution_count": null,
      "outputs": [
        {
          "output_type": "execute_result",
          "data": {
            "text/plain": [
              "2"
            ]
          },
          "metadata": {},
          "execution_count": 30
        }
      ]
    },
    {
      "cell_type": "code",
      "source": [
        "s.rfind('l')"
      ],
      "metadata": {
        "colab": {
          "base_uri": "https://localhost:8080/"
        },
        "id": "8sGsyK2_mYFR",
        "outputId": "2ff13f70-a9ae-44c6-a1db-31d3c924d8ca"
      },
      "execution_count": null,
      "outputs": [
        {
          "output_type": "execute_result",
          "data": {
            "text/plain": [
              "9"
            ]
          },
          "metadata": {},
          "execution_count": 31
        }
      ]
    },
    {
      "cell_type": "code",
      "source": [
        "len(s)"
      ],
      "metadata": {
        "colab": {
          "base_uri": "https://localhost:8080/"
        },
        "id": "mJafql4rnaH7",
        "outputId": "aa70cc9a-0113-41c3-a43e-078270cfdc9d"
      },
      "execution_count": null,
      "outputs": [
        {
          "output_type": "execute_result",
          "data": {
            "text/plain": [
              "11"
            ]
          },
          "metadata": {},
          "execution_count": 33
        }
      ]
    },
    {
      "cell_type": "code",
      "source": [
        "s.find('l',3,len(s))"
      ],
      "metadata": {
        "colab": {
          "base_uri": "https://localhost:8080/"
        },
        "id": "UW6HAODfmdAN",
        "outputId": "1d9a01a4-8438-4e04-992e-cb30e0e7c7c7"
      },
      "execution_count": null,
      "outputs": [
        {
          "output_type": "execute_result",
          "data": {
            "text/plain": [
              "3"
            ]
          },
          "metadata": {},
          "execution_count": 32
        }
      ]
    },
    {
      "cell_type": "code",
      "source": [
        "s.find(\"mahi\")"
      ],
      "metadata": {
        "colab": {
          "base_uri": "https://localhost:8080/"
        },
        "id": "2Y2IUVSEnX68",
        "outputId": "fa150851-c54c-4754-aed8-ee763532e17e"
      },
      "execution_count": null,
      "outputs": [
        {
          "output_type": "execute_result",
          "data": {
            "text/plain": [
              "-1"
            ]
          },
          "metadata": {},
          "execution_count": 34
        }
      ]
    },
    {
      "cell_type": "code",
      "source": [
        "s"
      ],
      "metadata": {
        "colab": {
          "base_uri": "https://localhost:8080/",
          "height": 36
        },
        "id": "JZu9PCkKoR4b",
        "outputId": "1fea6fdc-5427-47b4-c39a-6bc4f0e190ca"
      },
      "execution_count": null,
      "outputs": [
        {
          "output_type": "execute_result",
          "data": {
            "text/plain": [
              "'hello world'"
            ],
            "application/vnd.google.colaboratory.intrinsic+json": {
              "type": "string"
            }
          },
          "metadata": {},
          "execution_count": 35
        }
      ]
    },
    {
      "cell_type": "code",
      "source": [
        "s.replace(\"world\", \"students\")"
      ],
      "metadata": {
        "colab": {
          "base_uri": "https://localhost:8080/",
          "height": 36
        },
        "id": "PvsvqySunilk",
        "outputId": "c673abdb-d138-4bbb-c8da-bcbb389ef311"
      },
      "execution_count": null,
      "outputs": [
        {
          "output_type": "execute_result",
          "data": {
            "text/plain": [
              "'mohit\\tmahi'"
            ],
            "application/vnd.google.colaboratory.intrinsic+json": {
              "type": "string"
            }
          },
          "metadata": {},
          "execution_count": 5
        }
      ]
    },
    {
      "cell_type": "code",
      "source": [
        "s.replace(\"l\", \"students\")"
      ],
      "metadata": {
        "colab": {
          "base_uri": "https://localhost:8080/",
          "height": 36
        },
        "id": "a7-nITHioVmo",
        "outputId": "9d28e3d6-1b8d-46d9-ea8d-1985a9dd90fe"
      },
      "execution_count": null,
      "outputs": [
        {
          "output_type": "execute_result",
          "data": {
            "text/plain": [
              "'hestudentsstudentso worstudentsd'"
            ],
            "application/vnd.google.colaboratory.intrinsic+json": {
              "type": "string"
            }
          },
          "metadata": {},
          "execution_count": 37
        }
      ]
    },
    {
      "cell_type": "code",
      "source": [
        "# Wap to find index of all 'a' character using find?\n",
        "s = \"abasnbsbsjbsjbjsabsbjbsbdjsbjasjdsbjsabjbsajbjasbjdsab\"\n",
        "pos =0\n",
        "while True:\n",
        "  pos = s.find(\"a\", pos, len(s))\n",
        "  if pos ==-1:\n",
        "    break\n",
        "  print(pos)\n",
        "  pos+=1\n"
      ],
      "metadata": {
        "colab": {
          "base_uri": "https://localhost:8080/"
        },
        "id": "8YPVJDSwodSS",
        "outputId": "847cb589-dfe4-412c-eaa1-5d2566623e4c"
      },
      "execution_count": null,
      "outputs": [
        {
          "output_type": "stream",
          "name": "stdout",
          "text": [
            "0\n",
            "2\n",
            "16\n",
            "29\n",
            "37\n",
            "42\n",
            "46\n",
            "52\n"
          ]
        }
      ]
    },
    {
      "cell_type": "code",
      "source": [
        "# Wap to find index of all 'a' character using find?\n",
        "s = \"abasnbsbsjbsjbjsabsbjbsbdjsbjasjdsbjsabjbsajbjasbjdsab\"\n",
        "pos =0\n",
        "while True:\n",
        "  pos = s.find(\"ab\", pos, len(s))\n",
        "  if pos ==-1:\n",
        "    break\n",
        "  print(pos)\n",
        "  pos+=1"
      ],
      "metadata": {
        "colab": {
          "base_uri": "https://localhost:8080/"
        },
        "id": "5LPLISsupHVz",
        "outputId": "364d8f31-b3b2-4601-8136-03a44f74656e"
      },
      "execution_count": null,
      "outputs": [
        {
          "output_type": "stream",
          "name": "stdout",
          "text": [
            "0\n",
            "16\n",
            "37\n",
            "52\n"
          ]
        }
      ]
    },
    {
      "cell_type": "code",
      "source": [
        "s=\"hello world\""
      ],
      "metadata": {
        "id": "5q8FCZ8ArVpp"
      },
      "execution_count": null,
      "outputs": []
    },
    {
      "cell_type": "code",
      "source": [
        "s.index('l')"
      ],
      "metadata": {
        "colab": {
          "base_uri": "https://localhost:8080/"
        },
        "id": "Gek0rh_jqIUb",
        "outputId": "29ab78ec-2d95-4e74-df7d-45c65c9f8ae8"
      },
      "execution_count": null,
      "outputs": [
        {
          "output_type": "execute_result",
          "data": {
            "text/plain": [
              "2"
            ]
          },
          "metadata": {},
          "execution_count": 51
        }
      ]
    },
    {
      "cell_type": "code",
      "source": [
        "s.rindex('l')"
      ],
      "metadata": {
        "colab": {
          "base_uri": "https://localhost:8080/"
        },
        "id": "V6U7pP4ZrUQ_",
        "outputId": "2c8e0c39-de23-468a-cf14-60891f1b839d"
      },
      "execution_count": null,
      "outputs": [
        {
          "output_type": "execute_result",
          "data": {
            "text/plain": [
              "9"
            ]
          },
          "metadata": {},
          "execution_count": 52
        }
      ]
    },
    {
      "cell_type": "code",
      "source": [
        "s.index(\"mahi\")"
      ],
      "metadata": {
        "id": "CjErGsOzraa1",
        "outputId": "14e609cd-947c-41d4-e59c-cf79afbdf953",
        "colab": {
          "base_uri": "https://localhost:8080/",
          "height": 144
        }
      },
      "execution_count": null,
      "outputs": [
        {
          "output_type": "error",
          "ename": "ValueError",
          "evalue": "substring not found",
          "traceback": [
            "\u001b[0;31m---------------------------------------------------------------------------\u001b[0m",
            "\u001b[0;31mValueError\u001b[0m                                Traceback (most recent call last)",
            "\u001b[0;32m<ipython-input-53-01886a1f052c>\u001b[0m in \u001b[0;36m<cell line: 1>\u001b[0;34m()\u001b[0m\n\u001b[0;32m----> 1\u001b[0;31m \u001b[0ms\u001b[0m\u001b[0;34m.\u001b[0m\u001b[0mindex\u001b[0m\u001b[0;34m(\u001b[0m\u001b[0;34m\"mahi\"\u001b[0m\u001b[0;34m)\u001b[0m\u001b[0;34m\u001b[0m\u001b[0;34m\u001b[0m\u001b[0m\n\u001b[0m",
            "\u001b[0;31mValueError\u001b[0m: substring not found"
          ]
        }
      ]
    },
    {
      "cell_type": "code",
      "source": [],
      "metadata": {
        "id": "C57DV3YoreoV"
      },
      "execution_count": null,
      "outputs": []
    }
  ]
}